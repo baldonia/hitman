{
 "cells": [
  {
   "cell_type": "markdown",
   "metadata": {},
   "source": [
    "# Convert the block format I have to a per-event friendly format"
   ]
  },
  {
   "cell_type": "code",
   "execution_count": 4,
   "metadata": {},
   "outputs": [],
   "source": [
    "import numpy as np"
   ]
  },
  {
   "cell_type": "code",
   "execution_count": 5,
   "metadata": {},
   "outputs": [],
   "source": [
    "#grab the datasets\n",
    "#hits\n",
    "hits=np.load('/home/gmw5164/testbench/utilInstall/WMUtils/sibyl/noisedata/3kHz/hits_eval.npy')\n",
    "hitparams=np.load('/home/gmw5164/testbench/utilInstall/WMUtils/sibyl/noisedata/3kHz/params_eval.npy')\n",
    "#charge\n",
    "charge=np.load('/home/gmw5164/testbench/utilInstall/WMUtils/sibyl/noisedata/3kHz/charge_eval.npy')\n",
    "\n",
    "ids=[]\n",
    "for i in range(1,len(hitparams)):\n",
    "    if all(hitparams[i-1]!=hitparams[i]):\n",
    "        ids.append(i)\n",
    "ids.append(len(hits))\n",
    "\n",
    "#create events \n",
    "start=0\n",
    "iteration=0\n",
    "events=[]\n",
    "for i in ids:\n",
    "    event={\n",
    "        \"hits\":  hits[start:i],\n",
    "        \"total_charge\": charge[iteration],\n",
    "        \"truth\": hitparams[start]     \n",
    "    }\n",
    "    start=i\n",
    "    events.append(event)\n",
    "    iteration+=1\n"
   ]
  },
  {
   "cell_type": "code",
   "execution_count": 34,
   "metadata": {
    "scrolled": true
   },
   "outputs": [
    {
     "name": "stdout",
     "output_type": "stream",
     "text": [
      "[[-4.06302250e+03 -4.71325301e+03 -2.32947822e+03  1.41666566e+00\n",
      "   1.79378552e+00 -5.06438060e+00  6.03444290e+00]\n",
      " [-4.06302250e+03 -4.71325301e+03 -2.32947822e+03  1.41666566e+00\n",
      "   1.79378552e+00 -5.06438060e+00  6.03444290e+00]\n",
      " [-4.06302250e+03 -4.71325301e+03 -2.32947822e+03  1.41666566e+00\n",
      "   1.79378552e+00 -5.06438060e+00  6.03444290e+00]\n",
      " [-4.06302250e+03 -4.71325301e+03 -2.32947822e+03  1.41666566e+00\n",
      "   1.79378552e+00 -5.06438060e+00  6.03444290e+00]\n",
      " [-4.06302250e+03 -4.71325301e+03 -2.32947822e+03  1.41666566e+00\n",
      "   1.79378552e+00 -5.06438060e+00  6.03444290e+00]\n",
      " [-4.06302250e+03 -4.71325301e+03 -2.32947822e+03  1.41666566e+00\n",
      "   1.79378552e+00 -5.06438060e+00  6.03444290e+00]\n",
      " [-4.06302250e+03 -4.71325301e+03 -2.32947822e+03  1.41666566e+00\n",
      "   1.79378552e+00 -5.06438060e+00  6.03444290e+00]\n",
      " [-4.06302250e+03 -4.71325301e+03 -2.32947822e+03  1.41666566e+00\n",
      "   1.79378552e+00 -5.06438060e+00  6.03444290e+00]\n",
      " [-4.06302250e+03 -4.71325301e+03 -2.32947822e+03  1.41666566e+00\n",
      "   1.79378552e+00 -5.06438060e+00  6.03444290e+00]\n",
      " [-4.06302250e+03 -4.71325301e+03 -2.32947822e+03  1.41666566e+00\n",
      "   1.79378552e+00 -5.06438060e+00  6.03444290e+00]\n",
      " [-4.06302250e+03 -4.71325301e+03 -2.32947822e+03  1.41666566e+00\n",
      "   1.79378552e+00 -5.06438060e+00  6.03444290e+00]\n",
      " [-4.06302250e+03 -4.71325301e+03 -2.32947822e+03  1.41666566e+00\n",
      "   1.79378552e+00 -5.06438060e+00  6.03444290e+00]\n",
      " [-4.06302250e+03 -4.71325301e+03 -2.32947822e+03  1.41666566e+00\n",
      "   1.79378552e+00 -5.06438060e+00  6.03444290e+00]\n",
      " [-4.06302250e+03 -4.71325301e+03 -2.32947822e+03  1.41666566e+00\n",
      "   1.79378552e+00 -5.06438060e+00  6.03444290e+00]\n",
      " [-4.06302250e+03 -4.71325301e+03 -2.32947822e+03  1.41666566e+00\n",
      "   1.79378552e+00 -5.06438060e+00  6.03444290e+00]\n",
      " [-4.06302250e+03 -4.71325301e+03 -2.32947822e+03  1.41666566e+00\n",
      "   1.79378552e+00 -5.06438060e+00  6.03444290e+00]\n",
      " [-4.06302250e+03 -4.71325301e+03 -2.32947822e+03  1.41666566e+00\n",
      "   1.79378552e+00 -5.06438060e+00  6.03444290e+00]\n",
      " [-4.06302250e+03 -4.71325301e+03 -2.32947822e+03  1.41666566e+00\n",
      "   1.79378552e+00 -5.06438060e+00  6.03444290e+00]\n",
      " [-4.06302250e+03 -4.71325301e+03 -2.32947822e+03  1.41666566e+00\n",
      "   1.79378552e+00 -5.06438060e+00  6.03444290e+00]\n",
      " [ 7.40795822e+01  3.52985231e+03 -6.41756528e+03  2.12405183e+00\n",
      "   4.56603961e+00 -2.00310065e+01  6.73563480e+00]\n",
      " [ 7.40795822e+01  3.52985231e+03 -6.41756528e+03  2.12405183e+00\n",
      "   4.56603961e+00 -2.00310065e+01  6.73563480e+00]\n",
      " [ 7.40795822e+01  3.52985231e+03 -6.41756528e+03  2.12405183e+00\n",
      "   4.56603961e+00 -2.00310065e+01  6.73563480e+00]\n",
      " [ 7.40795822e+01  3.52985231e+03 -6.41756528e+03  2.12405183e+00\n",
      "   4.56603961e+00 -2.00310065e+01  6.73563480e+00]\n",
      " [ 7.40795822e+01  3.52985231e+03 -6.41756528e+03  2.12405183e+00\n",
      "   4.56603961e+00 -2.00310065e+01  6.73563480e+00]\n",
      " [ 7.40795822e+01  3.52985231e+03 -6.41756528e+03  2.12405183e+00\n",
      "   4.56603961e+00 -2.00310065e+01  6.73563480e+00]\n",
      " [ 7.40795822e+01  3.52985231e+03 -6.41756528e+03  2.12405183e+00\n",
      "   4.56603961e+00 -2.00310065e+01  6.73563480e+00]\n",
      " [ 7.40795822e+01  3.52985231e+03 -6.41756528e+03  2.12405183e+00\n",
      "   4.56603961e+00 -2.00310065e+01  6.73563480e+00]\n",
      " [ 7.40795822e+01  3.52985231e+03 -6.41756528e+03  2.12405183e+00\n",
      "   4.56603961e+00 -2.00310065e+01  6.73563480e+00]\n",
      " [ 7.40795822e+01  3.52985231e+03 -6.41756528e+03  2.12405183e+00\n",
      "   4.56603961e+00 -2.00310065e+01  6.73563480e+00]\n",
      " [ 7.40795822e+01  3.52985231e+03 -6.41756528e+03  2.12405183e+00\n",
      "   4.56603961e+00 -2.00310065e+01  6.73563480e+00]\n",
      " [ 7.40795822e+01  3.52985231e+03 -6.41756528e+03  2.12405183e+00\n",
      "   4.56603961e+00 -2.00310065e+01  6.73563480e+00]\n",
      " [ 7.40795822e+01  3.52985231e+03 -6.41756528e+03  2.12405183e+00\n",
      "   4.56603961e+00 -2.00310065e+01  6.73563480e+00]\n",
      " [ 7.40795822e+01  3.52985231e+03 -6.41756528e+03  2.12405183e+00\n",
      "   4.56603961e+00 -2.00310065e+01  6.73563480e+00]\n",
      " [ 7.40795822e+01  3.52985231e+03 -6.41756528e+03  2.12405183e+00\n",
      "   4.56603961e+00 -2.00310065e+01  6.73563480e+00]\n",
      " [ 7.40795822e+01  3.52985231e+03 -6.41756528e+03  2.12405183e+00\n",
      "   4.56603961e+00 -2.00310065e+01  6.73563480e+00]\n",
      " [ 7.40795822e+01  3.52985231e+03 -6.41756528e+03  2.12405183e+00\n",
      "   4.56603961e+00 -2.00310065e+01  6.73563480e+00]\n",
      " [ 7.40795822e+01  3.52985231e+03 -6.41756528e+03  2.12405183e+00\n",
      "   4.56603961e+00 -2.00310065e+01  6.73563480e+00]\n",
      " [ 7.40795822e+01  3.52985231e+03 -6.41756528e+03  2.12405183e+00\n",
      "   4.56603961e+00 -2.00310065e+01  6.73563480e+00]\n",
      " [ 2.86929184e+03  3.43785998e+03 -2.29442863e+03  1.06463808e+00\n",
      "   5.41471113e+00 -1.71597738e+01  4.75257874e+00]\n",
      " [ 2.86929184e+03  3.43785998e+03 -2.29442863e+03  1.06463808e+00\n",
      "   5.41471113e+00 -1.71597738e+01  4.75257874e+00]]\n"
     ]
    }
   ],
   "source": [
    "one=np.load('/home/gmw5164/testbench/utilInstall/WMUtils/sibyl/noisedata/3kHz/hits_eval.npy')\n",
    "two=np.load('/home/gmw5164/testbench/utilInstall/WMUtils/sibyl/noisedata/3kHz/params_eval.npy')\n",
    "\n",
    "\n",
    "events[1]['truth']\n",
    "len(events[1]['hits'])\n",
    "print(two[0:40])"
   ]
  },
  {
   "cell_type": "code",
   "execution_count": 11,
   "metadata": {},
   "outputs": [
    {
     "name": "stdout",
     "output_type": "stream",
     "text": [
      "358086\n"
     ]
    },
    {
     "data": {
      "text/plain": [
       "19"
      ]
     },
     "execution_count": 11,
     "metadata": {},
     "output_type": "execute_result"
    }
   ],
   "source": [
    "#lets filter the data by >10 pmts\n",
    "\n",
    "q=[event for event in events if len(event['hits']) > 10]\n",
    "print(len(q))\n",
    "len(q[1]['hits'])"
   ]
  },
  {
   "cell_type": "code",
   "execution_count": null,
   "metadata": {},
   "outputs": [],
   "source": []
  },
  {
   "cell_type": "code",
   "execution_count": 81,
   "metadata": {},
   "outputs": [
    {
     "name": "stdout",
     "output_type": "stream",
     "text": [
      "loaded\n"
     ]
    }
   ],
   "source": [
    "#grab the neural network formatted datasets\n",
    "#hits\n",
    "hits=np.load('/home/gmw5164/testbench/utilInstall/WMUtils/sibyl/noisedata/3kHzhits.npy')\n",
    "hitparams=np.load('/home/gmw5164/testbench/utilInstall/WMUtils/sibyl/noisedata/3kHzparams.npy')\n",
    "#charge\n",
    "print('loaded')\n",
    "ids=[]\n",
    "for i in range(1,len(hitparams)):\n",
    "    if all(hitparams[i-1]!=hitparams[i]):\n",
    "        ids.append(i)\n",
    "ids.append(len(hits))\n",
    "\n",
    "#create events \n",
    "start=0\n",
    "iteration=0\n",
    "events=[]\n",
    "for i in ids:\n",
    "    event={\n",
    "        \"hits\":  hits[start:i],\n",
    "        \"total_charge\": np.array([np.sum(hits[start:i,4]),len(hits[start:i])]),\n",
    "        \"truth\": hitparams[start]\n",
    "        \n",
    "    }\n",
    "    start=i\n",
    "    events.append(event)\n",
    "    iteration+=1\n"
   ]
  },
  {
   "cell_type": "code",
   "execution_count": 84,
   "metadata": {},
   "outputs": [
    {
     "name": "stdout",
     "output_type": "stream",
     "text": [
      "4073349\n",
      "2078389\n"
     ]
    }
   ],
   "source": [
    "print(len(events))\n",
    "\n",
    "#events=[event for event in events if len(event['hits']) > 15]\n",
    "\n",
    "prm=[]\n",
    "hit=[]\n",
    "chg=[]\n",
    "cprm=[]\n",
    "print(len(events))\n",
    "for event in events:\n",
    "    for i in range(0,len(event['hits'])):\n",
    "        hit.append(event['hits'][i])\n",
    "        prm.append(event['truth'])\n",
    "    chg.append(event['total_charge'])\n",
    "    cprm.append(event['truth'])\n",
    "\n"
   ]
  },
  {
   "cell_type": "code",
   "execution_count": 85,
   "metadata": {},
   "outputs": [
    {
     "name": "stdout",
     "output_type": "stream",
     "text": [
      "44825851\n",
      "2078389\n"
     ]
    }
   ],
   "source": [
    "print(len(prm))\n",
    "np.save('/home/gmw5164/testbench/utilInstall/WMUtils/sibyl/noisedata/thits.npy',np.array(hit))\n",
    "np.save('/home/gmw5164/testbench/utilInstall/WMUtils/sibyl/noisedata/tparams.npy',np.array(prm))\n",
    "np.save('/home/gmw5164/testbench/utilInstall/WMUtils/sibyl/noisedata/tcparams.npy',np.array(cprm))\n",
    "np.save('/home/gmw5164/testbench/utilInstall/WMUtils/sibyl/noisedata/tcharge.npy',np.array(chg))\n",
    "print(len(chg))"
   ]
  },
  {
   "cell_type": "code",
   "execution_count": 83,
   "metadata": {},
   "outputs": [],
   "source": [
    "np.save('/home/gmw5164/testbench/utilInstall/WMUtils/sibyl/noisedata/tcparams.npy',np.array(cprm))\n",
    "np.save('/home/gmw5164/testbench/utilInstall/WMUtils/sibyl/noisedata/tcharge.npy',np.array(chg))"
   ]
  },
  {
   "cell_type": "code",
   "execution_count": 6,
   "metadata": {},
   "outputs": [],
   "source": [
    "events=[event for event in events if len(event['hits']) > 15]"
   ]
  },
  {
   "cell_type": "code",
   "execution_count": 187,
   "metadata": {},
   "outputs": [
    {
     "name": "stdout",
     "output_type": "stream",
     "text": [
      "[-9.0178494  74.16781365 18.84439944 -7.60911043 -5.87314734  0.\n",
      " -0.77574061 57.90146941 -4.54312865]\n",
      "[0, 4, 4]\n"
     ]
    }
   ],
   "source": [
    "#Testing the n9 function\n",
    "event=4\n",
    "\n",
    "def get_n9(event):\n",
    "    index=np.argsort(event['hits'][:,3])\n",
    "    event['hits']=event['hits'][index]#sort the pmts by time hit to make searching easier\n",
    "#    print(event['hits'][:,3])\n",
    "    window=[0,0,0]\n",
    "    for i in range(0,len(event['hits'])):\n",
    "        for j in range(i+4,len(event['hits'])):\n",
    "            if event['hits'][j,3]-event['hits'][i,3]<9 and window[2]<j-i:\n",
    "                if j-i>window[1]-window[0]:\n",
    "                    window=[i,j,j-i]\n",
    "    return window\n",
    "\n",
    "print(events[event]['hits'][:,3])\n",
    "n9s=get_n9(events[event])\n",
    "print(n9s)\n",
    "[[][][][][][][][]]"
   ]
  },
  {
   "cell_type": "code",
   "execution_count": 34,
   "metadata": {},
   "outputs": [
    {
     "name": "stdout",
     "output_type": "stream",
     "text": [
      "[23722 28104 29238 27820 26070 35687 14024  7727  4119  2308  1306   729\n",
      "   403   235   104    66    32    16     4     5]\n",
      "[ 3.999  4.999  5.999  6.999  7.999  8.999  9.999 10.999 11.999 12.999\n",
      " 13.999 14.999 15.999 16.999 17.999 18.999 19.999 20.999 21.999 22.999\n",
      " 23.999]\n"
     ]
    },
    {
     "data": {
      "image/png": "[encoded data removed]",
      "text/plain": [
       "<Figure size 432x288 with 1 Axes>"
      ]
     },
     "metadata": {},
     "output_type": "display_data"
    }
   ],
   "source": [
    "from matplotlib import pyplot as plt \n",
    "n9_array=np.array([n9[2] for n9 in n9s])\n",
    "bins=[i-0.001 for i in range(4,np.max(n9_array))]\n",
    "hist,bins = np.histogram(n9_array,bins) \n",
    "plt.figure(facecolor='white')\n",
    "plt.hist(n9_array,bins,density=True)\n",
    "plt.title('Probability of n9 hits in my PMT > 15 restricted dataset')\n",
    "plt.xlabel('n9')\n",
    "plt.ylabel('Probability')\n",
    "print(hist)\n",
    "print(bins)"
   ]
  },
  {
   "cell_type": "code",
   "execution_count": 62,
   "metadata": {},
   "outputs": [
    {
     "ename": "SyntaxError",
     "evalue": "invalid syntax (<ipython-input-62-63a2a441a89f>, line 3)",
     "output_type": "error",
     "traceback": [
      "\u001b[0;36m  File \u001b[0;32m\"<ipython-input-62-63a2a441a89f>\"\u001b[0;36m, line \u001b[0;32m3\u001b[0m\n\u001b[0;31m    t[[0:2,5]]\u001b[0m\n\u001b[0m        ^\u001b[0m\n\u001b[0;31mSyntaxError\u001b[0m\u001b[0;31m:\u001b[0m invalid syntax\n"
     ]
    }
   ],
   "source": [
    "event=1\n",
    "t=events[event]['truth']\n",
    "t[[0:2,5]]"
   ]
  },
  {
   "cell_type": "code",
   "execution_count": 204,
   "metadata": {},
   "outputs": [
    {
     "name": "stdout",
     "output_type": "stream",
     "text": [
      "[ 5.69313121e+03  2.32269826e+03 -5.22150353e+03  1.76912509e+00]\n",
      "[ 5.72101311e+03  2.82101804e+03 -6.02953334e+03 -3.72962279e+00]\n",
      "6148.712888581583\n",
      "6378.725087557439\n",
      "[[ 6.70000000e+03  0.00000000e+00 -1.25000000e+03  2.24861992e+01\n",
      "   1.38352954e+00  1.00000000e+00]\n",
      " [ 6.40233780e+03  1.97485967e+03 -4.75000000e+03  9.30538532e+00\n",
      "   9.29614544e-01  1.00000000e+00]\n",
      " [ 6.53201701e+03  1.49089026e+03 -5.25000000e+03  5.45596549e+00\n",
      "   1.21042931e+00  1.00000000e+00]\n",
      " [ 6.40233780e+03  1.97485967e+03 -5.25000000e+03  6.20906712e+00\n",
      "   4.50786650e-01  1.00000000e+00]\n",
      " [ 6.23685412e+03  2.44778486e+03 -5.25000000e+03  1.53486571e-01\n",
      "   9.43544626e-01  1.00000000e+00]\n",
      " [ 6.03649141e+03  2.90702105e+03 -5.25000000e+03  1.79582109e+00\n",
      "   4.03047132e+00  1.00000000e+00]\n",
      " [ 5.80237021e+03  3.35000000e+03 -5.25000000e+03  3.24153538e+00\n",
      "   2.38907647e+00  1.00000000e+00]\n",
      " [ 5.23827093e+03 -4.17738167e+03 -5.25000000e+03  3.06541880e+01\n",
      "   9.64866459e-01  1.00000000e+00]\n",
      " [ 6.40233780e+03  1.97485967e+03 -5.75000000e+03  6.13703780e+00\n",
      "   9.34060991e-01  1.00000000e+00]\n",
      " [ 6.23685412e+03  2.44778486e+03 -5.75000000e+03  3.20485927e-01\n",
      "   1.38675582e+00  1.00000000e+00]\n",
      " [ 6.03649141e+03  2.90702105e+03 -5.75000000e+03 -1.62807001e+00\n",
      "   6.34267712e+00  1.00000000e+00]\n",
      " [ 5.80237021e+03  3.35000000e+03 -5.75000000e+03 -6.60334486e-01\n",
      "   6.65401745e+00  1.00000000e+00]\n",
      " [ 6.23685412e+03  2.44778486e+03 -6.25000000e+03  3.05780991e+00\n",
      "   2.34763193e+00  1.00000000e+00]\n",
      " [ 6.03649141e+03  2.90702105e+03 -6.25000000e+03 -2.62338688e+00\n",
      "   1.79562855e+00  1.00000000e+00]]\n"
     ]
    }
   ],
   "source": [
    "from scipy.optimize import least_squares\n",
    "\n",
    "\n",
    "def get_residuals(x,event):\n",
    "    #input vector x corresponds to [x,y,z,t]\n",
    "    residuals=[]\n",
    "    c=299792458*10**-6\n",
    "    n=1.333\n",
    "    #takes an event hit and calculates residuals\n",
    "    for i in range (0,len(event['hits'])-2):\n",
    "        hit=event['hits'][i]\n",
    "        residuals.append((c/n)**2*(x[3]-hit[3])**2 - (x[0]-hit[0])**2 - (x[1]-hit[1])**2 - (x[2]-hit[2])**2)\n",
    "    return np.array(residuals)\n",
    "\n",
    "event=6\n",
    "truth=events[event]['truth'][[0,1,2,5]]\n",
    "#truth=np.array([0,0,0,0,0])\n",
    "get_residuals(truth,events[event])\n",
    "\n",
    "bound=([-6700,-6700,-6700,-400],[6700,6700,6700,400])\n",
    "\n",
    "x0=np.array([0,0,0,0])\n",
    "returned=least_squares(get_residuals,x0,args=(events[event],),bounds=bound)\n",
    "print(returned['x'])\n",
    "\n",
    "print(truth)\n",
    "\n",
    "print((returned['x'][0]**2+returned['x'][1]**2)**0.5)\n",
    "print((truth[0]**2+truth[1]**2)**0.5)\n",
    "\n",
    "print(events[event]['hits'])\n",
    "#print(events[event]['truth'])\n",
    "#print(get_residuals(truth,events[event]))\n",
    "#print(get_residuals(returned['x'],events[event]))"
   ]
  },
  {
   "cell_type": "code",
   "execution_count": 162,
   "metadata": {},
   "outputs": [
    {
     "ename": "KeyboardInterrupt",
     "evalue": "",
     "output_type": "error",
     "traceback": [
      "\u001b[0;31m---------------------------------------------------------------------------\u001b[0m",
      "\u001b[0;31mKeyboardInterrupt\u001b[0m                         Traceback (most recent call last)",
      "\u001b[0;32m<ipython-input-162-7e1a6707b4a9>\u001b[0m in \u001b[0;36m<module>\u001b[0;34m\u001b[0m\n\u001b[1;32m      8\u001b[0m \u001b[0mids\u001b[0m\u001b[0;34m=\u001b[0m\u001b[0;34m[\u001b[0m\u001b[0;34m]\u001b[0m\u001b[0;34m\u001b[0m\u001b[0;34m\u001b[0m\u001b[0m\n\u001b[1;32m      9\u001b[0m \u001b[0;32mfor\u001b[0m \u001b[0mi\u001b[0m \u001b[0;32min\u001b[0m \u001b[0mrange\u001b[0m\u001b[0;34m(\u001b[0m\u001b[0;36m1\u001b[0m\u001b[0;34m,\u001b[0m\u001b[0mlen\u001b[0m\u001b[0;34m(\u001b[0m\u001b[0mhitparams\u001b[0m\u001b[0;34m)\u001b[0m\u001b[0;34m)\u001b[0m\u001b[0;34m:\u001b[0m\u001b[0;34m\u001b[0m\u001b[0;34m\u001b[0m\u001b[0m\n\u001b[0;32m---> 10\u001b[0;31m     \u001b[0;32mif\u001b[0m \u001b[0mall\u001b[0m\u001b[0;34m(\u001b[0m\u001b[0mhitparams\u001b[0m\u001b[0;34m[\u001b[0m\u001b[0mi\u001b[0m\u001b[0;34m-\u001b[0m\u001b[0;36m1\u001b[0m\u001b[0;34m]\u001b[0m\u001b[0;34m!=\u001b[0m\u001b[0mhitparams\u001b[0m\u001b[0;34m[\u001b[0m\u001b[0mi\u001b[0m\u001b[0;34m]\u001b[0m\u001b[0;34m)\u001b[0m\u001b[0;34m:\u001b[0m\u001b[0;34m\u001b[0m\u001b[0;34m\u001b[0m\u001b[0m\n\u001b[0m\u001b[1;32m     11\u001b[0m         \u001b[0mids\u001b[0m\u001b[0;34m.\u001b[0m\u001b[0mappend\u001b[0m\u001b[0;34m(\u001b[0m\u001b[0mi\u001b[0m\u001b[0;34m)\u001b[0m\u001b[0;34m\u001b[0m\u001b[0;34m\u001b[0m\u001b[0m\n\u001b[1;32m     12\u001b[0m \u001b[0mids\u001b[0m\u001b[0;34m.\u001b[0m\u001b[0mappend\u001b[0m\u001b[0;34m(\u001b[0m\u001b[0mlen\u001b[0m\u001b[0;34m(\u001b[0m\u001b[0mhits\u001b[0m\u001b[0;34m)\u001b[0m\u001b[0;34m)\u001b[0m\u001b[0;34m\u001b[0m\u001b[0;34m\u001b[0m\u001b[0m\n",
      "\u001b[0;31mKeyboardInterrupt\u001b[0m: "
     ]
    }
   ],
   "source": [
    "#grab the datasets\n",
    "#hits\n",
    "hits=np.load('/fastio/wendel/hits.npy')\n",
    "hitparams=np.load('/fastio/wendel/params.npy')\n",
    "#charge\n",
    "charge=np.load('/fastio/wendel/charge.npy')\n",
    "\n",
    "ids=[]\n",
    "for i in range(1,len(hitparams)):\n",
    "    if all(hitparams[i-1]!=hitparams[i]):\n",
    "        ids.append(i)\n",
    "ids.append(len(hits))\n",
    "\n",
    "#create events\n",
    "start=0\n",
    "iteration=0\n",
    "events=[]\n",
    "for i in ids:\n",
    "    event={\n",
    "        \"hits\":  hits[start:i],\n",
    "        \"total_charge\": charge[iteration],\n",
    "        \"truth\": hitparams[start]     \n",
    "    }\n",
    "    start=i\n",
    "    events.append(event)\n",
    "    iteration+=1\n",
    "\n",
    "del hits\n",
    "del hitparams\n",
    "del charge"
   ]
  },
  {
   "cell_type": "code",
   "execution_count": 114,
   "metadata": {},
   "outputs": [
    {
     "name": "stdout",
     "output_type": "stream",
     "text": [
      "198207\n",
      "198207\n",
      "198206\n"
     ]
    }
   ],
   "source": [
    "print(len(events))\n",
    "#This one will convert the standard 'human readable' dataset into a numpy set for training\n",
    "#events=[event for event in events[-200000:] if len(event['hits']) > 3] #filter the last 200k events and only include event with hits >3\n",
    "\n",
    "prm=[]\n",
    "hit=[]\n",
    "chg=[]\n",
    "cprm=[]\n",
    "print(len(events))\n",
    "for event in events:\n",
    "    if (event['truth'][0]**2+event['truth'][1]**2)**0.5<6700 and abs(event['truth'][2])<6700:\n",
    "        for i in range(0,len(event['hits'])):\n",
    "            hit.append(event['hits'][i])\n",
    "            prm.append(event['truth'])\n",
    "        chg.append(event['total_charge'])\n",
    "        cprm.append(event['truth'])\n",
    "    \n",
    "print(len(chg))"
   ]
  },
  {
   "cell_type": "code",
   "execution_count": 116,
   "metadata": {},
   "outputs": [],
   "source": [
    "np.save('/fastio/wendel/test/hits.npy',np.array(hit))\n",
    "np.save('/fastio/wendel/test/params.npy',np.array(prm))\n",
    "np.save('/fastio/wendel/test/cparams.npy',np.array(cprm))\n",
    "np.save('/fastio/wendel/test/charge.npy',np.array(chg))"
   ]
  },
  {
   "cell_type": "code",
   "execution_count": 179,
   "metadata": {},
   "outputs": [
    {
     "name": "stdout",
     "output_type": "stream",
     "text": [
      "[ 1.44541619e+02  2.78790012e+03  4.11572463e+03  2.80981983e-01\n",
      "  5.96531219e+00 -6.98107532e+01  6.45354605e+00]\n"
     ]
    }
   ],
   "source": []
  },
  {
   "cell_type": "code",
   "execution_count": null,
   "metadata": {},
   "outputs": [],
   "source": []
  }
 ],
 "metadata": {
  "kernelspec": {
   "display_name": "Python 3",
   "language": "python",
   "name": "python3"
  },
  "language_info": {
   "codemirror_mode": {
    "name": "ipython",
    "version": 3
   },
   "file_extension": ".py",
   "mimetype": "text/x-python",
   "name": "python",
   "nbconvert_exporter": "python",
   "pygments_lexer": "ipython3",
   "version": "3.8.3"
  }
 },
 "nbformat": 4,
 "nbformat_minor": 4
}
